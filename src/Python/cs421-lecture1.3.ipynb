{
 "cells": [
  {
   "cell_type": "code",
   "execution_count": 7,
   "metadata": {},
   "outputs": [
    {
     "name": "stdout",
     "output_type": "stream",
     "text": [
      "233168\n"
     ]
    }
   ],
   "source": [
    "# Euler Problem 1 - Multiples of 3 and 5\n",
    "sum = 0\n",
    "for i in range(1,1000):\n",
    "    if ((i % 3) == 0) or ((i % 5) == 0):\n",
    "        sum += i\n",
    "\n",
    "print(sum)"
   ]
  },
  {
   "cell_type": "code",
   "execution_count": 20,
   "metadata": {},
   "outputs": [
    {
     "name": "stdout",
     "output_type": "stream",
     "text": [
      "486847\n"
     ]
    }
   ],
   "source": [
    "# Euler Problem 3 - Prime Factors\n",
    "primes = [2]\n",
    "prime_factors = []\n",
    "to_factor = 600851475143\n",
    "\n",
    "for i in range(3,to_factor,2):\n",
    "    prime = True\n",
    "    for p in primes:\n",
    "        if i % p == 0:\n",
    "            prime = False\n",
    "            break\n",
    "        if (p/i) <= i:\n",
    "            break\n",
    "    if prime == True:\n",
    "        primes += [i]\n",
    "        if (to_factor % i == 0):\n",
    "            prime_factors += [i]\n",
    "        if (to_factor/i) <= i:\n",
    "            break\n",
    "\n",
    "#print(primes)\n",
    "#print(prime_factors)\n",
    "print(prime_factors[-1])\n",
    "        \n",
    "    \n",
    "                "
   ]
  },
  {
   "cell_type": "code",
   "execution_count": 6,
   "metadata": {},
   "outputs": [
    {
     "name": "stdout",
     "output_type": "stream",
     "text": [
      "648\n"
     ]
    }
   ],
   "source": [
    "target = 100\n",
    "factor = 1\n",
    "for i in range(1,target + 1):\n",
    "    factor *= i\n",
    "    \n",
    "factor = str(factor)\n",
    "\n",
    "factor_sum = 0\n",
    "for c in factor:\n",
    "    factor_sum += int(c)\n",
    "print(factor_sum)"
   ]
  },
  {
   "cell_type": "code",
   "execution_count": null,
   "metadata": {},
   "outputs": [],
   "source": []
  }
 ],
 "metadata": {
  "kernelspec": {
   "display_name": "base",
   "language": "python",
   "name": "python3"
  },
  "language_info": {
   "codemirror_mode": {
    "name": "ipython",
    "version": 3
   },
   "file_extension": ".py",
   "mimetype": "text/x-python",
   "name": "python",
   "nbconvert_exporter": "python",
   "pygments_lexer": "ipython3",
   "version": "3.9.16"
  },
  "orig_nbformat": 4
 },
 "nbformat": 4,
 "nbformat_minor": 2
}
